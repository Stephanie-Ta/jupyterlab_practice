{
 "cells": [
  {
   "cell_type": "markdown",
   "id": "79ed95fb-fe9e-499b-b83d-a9fbba4ba969",
   "metadata": {},
   "source": [
    "# Stephanie Ta\n",
    "Notebook for assignment 7"
   ]
  },
  {
   "cell_type": "code",
   "execution_count": 1,
   "id": "e215cd6e-962f-4727-ae27-c0efbbb1ebb0",
   "metadata": {
    "tags": []
   },
   "outputs": [
    {
     "name": "stdout",
     "output_type": "stream",
     "text": [
      "5.0\n"
     ]
    }
   ],
   "source": [
    "from typing import List\n",
    "\n",
    "def compute_mean(loi: List[int]):\n",
    "    print(sum(loi)/len(loi))\n",
    "    \n",
    "compute_mean([2, 4, 6, 8])"
   ]
  },
  {
   "cell_type": "markdown",
   "id": "9734440d-3aaf-47fd-9f7f-f65c0405fbf8",
   "metadata": {},
   "source": [
    "The function made above prints the mean of the inputted list of integers. The mean can be calculated as follows.\n",
    "$$\\bar{x} = \\dfrac{x_1 + x_2 + ... + x_n}{n} = \\dfrac{1}{n}\\left(\\sum_{i=1}^{n}x_i\\right)$$"
   ]
  }
 ],
 "metadata": {
  "kernelspec": {
   "display_name": "Python 3 (ipykernel)",
   "language": "python",
   "name": "python3"
  },
  "language_info": {
   "codemirror_mode": {
    "name": "ipython",
    "version": 3
   },
   "file_extension": ".py",
   "mimetype": "text/x-python",
   "name": "python",
   "nbconvert_exporter": "python",
   "pygments_lexer": "ipython3",
   "version": "3.10.10"
  }
 },
 "nbformat": 4,
 "nbformat_minor": 5
}
